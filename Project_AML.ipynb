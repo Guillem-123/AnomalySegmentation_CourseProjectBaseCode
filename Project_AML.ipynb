{
  "nbformat": 4,
  "nbformat_minor": 0,
  "metadata": {
    "colab": {
      "provenance": [],
      "gpuType": "T4",
      "include_colab_link": true
    },
    "kernelspec": {
      "name": "python3",
      "display_name": "Python 3"
    },
    "language_info": {
      "name": "python"
    },
    "accelerator": "GPU"
  },
  "cells": [
    {
      "cell_type": "markdown",
      "metadata": {
        "id": "view-in-github",
        "colab_type": "text"
      },
      "source": [
        "<a href=\"https://colab.research.google.com/github/Michdigg/AnomalySegmentation_CourseProjectBaseCode/blob/main/Project_AML.ipynb\" target=\"_parent\"><img src=\"https://colab.research.google.com/assets/colab-badge.svg\" alt=\"Open In Colab\"/></a>"
      ]
    },
    {
      "cell_type": "code",
      "execution_count": null,
      "metadata": {
        "id": "xnzgSj1WXwZQ"
      },
      "outputs": [],
      "source": [
        "#Cloning repo\n",
        "!git clone https://github.com/Michdigg/AnomalySegmentation_CourseProjectBaseCode\n",
        "\n",
        "#Download Cityscapes Dataset\n",
        "!python -m pip install cityscapesscripts\n",
        "\n",
        "# Preparing Cityscapes Dataset (val)\n",
        "%cd /content/AnomalySegmentation_CourseProjectBaseCode/Cityscapes/\n",
        "!CITYSCAPES_DATASET='.' csCreateTrainIdLabelImgs\n",
        "\n",
        "%cd /content/AnomalySegmentation_CourseProjectBaseCode/eval\n",
        "!pip install ood_metrics"
      ]
    },
    {
      "cell_type": "code",
      "source": [
        "# mIoU eval on Cityscapes validation set (ERFNet)\n",
        "%cd /content/AnomalySegmentation_CourseProjectBaseCode/eval\n",
        "!python eval_iou.py --datadir /content/AnomalySegmentation_CourseProjectBaseCode/Cityscapes --subset val"
      ],
      "metadata": {
        "id": "I2zFlr4u-SKJ"
      },
      "execution_count": null,
      "outputs": []
    },
    {
      "cell_type": "code",
      "source": [
        "# Inference on LostAndFound\n",
        "%cd /content/AnomalySegmentation_CourseProjectBaseCode/eval\n",
        "!python evalAnomaly.py --cpu --input '/content/AnomalySegmentation_CourseProjectBaseCode/Validation_Dataset/FS_LostFound_full/images/*.png' --discriminant maxlogit --temperature 1\n",
        "!python evalAnomaly.py --cpu --input '/content/AnomalySegmentation_CourseProjectBaseCode/Validation_Dataset/FS_LostFound_full/images/*.png' --discriminant msp --temperature 1\n",
        "!python evalAnomaly.py --cpu --input '/content/AnomalySegmentation_CourseProjectBaseCode/Validation_Dataset/FS_LostFound_full/images/*.png' --discriminant maxentropy --temperature 1"
      ],
      "metadata": {
        "id": "wZMP0ok5YKAl",
        "colab": {
          "base_uri": "https://localhost:8080/"
        },
        "outputId": "c5ee4838-065f-4940-b137-8074a7b37ff7"
      },
      "execution_count": null,
      "outputs": [
        {
          "output_type": "stream",
          "name": "stdout",
          "text": [
            "/content/AnomalySegmentation_CourseProjectBaseCode/eval\n",
            "Loading model: ../trained_models/erfnet.py\n",
            "Loading weights: ../trained_models/erfnet_pretrained.pth\n",
            "Model and weights LOADED successfully\n",
            "/content/AnomalySegmentation_CourseProjectBaseCode/Validation_Dataset/FS_LostFound_full/images/61.png\n"
          ]
        }
      ]
    },
    {
      "cell_type": "code",
      "source": [
        "# Inference on RoadAnomaly\n",
        "%cd /content/AnomalySegmentation_CourseProjectBaseCode/eval\n",
        "!python evalAnomaly.py --input '/content/AnomalySegmentation_CourseProjectBaseCode/Validation_Dataset/RoadAnomaly/images/*.jpg' --discriminant maxlogit --temperature 1\n",
        "!python evalAnomaly.py --input '/content/AnomalySegmentation_CourseProjectBaseCode/Validation_Dataset/RoadAnomaly/images/*.jpg' --discriminant msp --temperature 1\n",
        "!python evalAnomaly.py --input '/content/AnomalySegmentation_CourseProjectBaseCode/Validation_Dataset/RoadAnomaly/images/*.jpg' --discriminant maxentropy --temperature 1"
      ],
      "metadata": {
        "id": "X_4HBecmwyqz"
      },
      "execution_count": null,
      "outputs": []
    },
    {
      "cell_type": "code",
      "source": [
        "# Inference on RA21\n",
        "%cd /content/AnomalySegmentation_CourseProjectBaseCode/eval\n",
        "!python evalAnomaly.py --input '/content/AnomalySegmentation_CourseProjectBaseCode/Validation_Dataset/RoadAnomaly21/images/*.png' --discriminant maxlogit --temperature 1.0\n",
        "!python evalAnomaly.py --input '/content/AnomalySegmentation_CourseProjectBaseCode/Validation_Dataset/RoadAnomaly21/images/*.png' --discriminant msp --temperature 1\n",
        "!python evalAnomaly.py --input '/content/AnomalySegmentation_CourseProjectBaseCode/Validation_Dataset/RoadAnomaly21/images/*.png' --discriminant maxentropy --temperature 1"
      ],
      "metadata": {
        "id": "260hbZJ0w8Kq"
      },
      "execution_count": null,
      "outputs": []
    },
    {
      "cell_type": "code",
      "source": [
        "# Inference on RO21\n",
        "%cd /content/AnomalySegmentation_CourseProjectBaseCode/eval\n",
        "!python evalAnomaly.py --input '/content/AnomalySegmentation_CourseProjectBaseCode/Validation_Dataset/RoadObsticle21/images/*.webp' --discriminant maxlogit --temperature 1\n",
        "!python evalAnomaly.py --input '/content/AnomalySegmentation_CourseProjectBaseCode/Validation_Dataset/RoadObsticle21/images/*.webp' --discriminant msp --temperature 1\n",
        "!python evalAnomaly.py --input '/content/AnomalySegmentation_CourseProjectBaseCode/Validation_Dataset/RoadObsticle21/images/*.webp' --discriminant maxentropy --temperature 1"
      ],
      "metadata": {
        "id": "D4vHg1_ZxDzL"
      },
      "execution_count": null,
      "outputs": []
    },
    {
      "cell_type": "code",
      "source": [
        "# Inference on FS Static\n",
        "%cd /content/AnomalySegmentation_CourseProjectBaseCode/eval\n",
        "!python evalAnomaly.py --input '/content/AnomalySegmentation_CourseProjectBaseCode/Validation_Dataset/fs_static/images/*.jpg' --discriminant maxlogit --temperature 1\n",
        "!python evalAnomaly.py --input '/content/AnomalySegmentation_CourseProjectBaseCode/Validation_Dataset/fs_static/images/*.jpg' --discriminant msp --temperature 1\n",
        "!python evalAnomaly.py --input '/content/AnomalySegmentation_CourseProjectBaseCode/Validation_Dataset/fs_static/images/*.jpg' --discriminant maxentropy --temperature 1"
      ],
      "metadata": {
        "id": "w6T_ZXpKxKK-"
      },
      "execution_count": null,
      "outputs": []
    }
  ]
}