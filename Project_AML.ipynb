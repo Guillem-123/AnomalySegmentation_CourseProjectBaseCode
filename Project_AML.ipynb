{
  "nbformat": 4,
  "nbformat_minor": 0,
  "metadata": {
    "colab": {
      "provenance": [],
      "gpuType": "T4",
      "collapsed_sections": [
        "DJPk43clTXAV",
        "r2vBe6pKThex",
        "4Ln-aJXudvEq"
      ],
      "include_colab_link": true
    },
    "kernelspec": {
      "name": "python3",
      "display_name": "Python 3"
    },
    "language_info": {
      "name": "python"
    },
    "accelerator": "GPU"
  },
  "cells": [
    {
      "cell_type": "markdown",
      "metadata": {
        "id": "view-in-github",
        "colab_type": "text"
      },
      "source": [
        "<a href=\"https://colab.research.google.com/github/Michdigg/AnomalySegmentation_CourseProjectBaseCode/blob/main/Project_AML.ipynb\" target=\"_parent\"><img src=\"https://colab.research.google.com/assets/colab-badge.svg\" alt=\"Open In Colab\"/></a>"
      ]
    },
    {
      "cell_type": "markdown",
      "source": [
        "# Inferences"
      ],
      "metadata": {
        "id": "AGAHmA9STHQA"
      }
    },
    {
      "cell_type": "markdown",
      "source": [
        "## Package Preparation"
      ],
      "metadata": {
        "id": "DJPk43clTXAV"
      }
    },
    {
      "cell_type": "code",
      "execution_count": null,
      "metadata": {
        "id": "xnzgSj1WXwZQ"
      },
      "outputs": [],
      "source": [
        "#Cloning repo\n",
        "!git clone https://github.com/Guillem-123/AnomalySegmentation_CourseProjectBaseCode\n",
        "\n",
        "#Download Cityscapes Dataset\n",
        "!python -m pip install cityscapesscripts\n",
        "\n",
        "# Preparing Cityscapes Dataset (val)\n",
        "%cd /content/AnomalySegmentation_CourseProjectBaseCode/Cityscapes/\n",
        "!CITYSCAPES_DATASET='.' csCreateTrainIdLabelImgs\n",
        "\n",
        "%cd /content/AnomalySegmentation_CourseProjectBaseCode/eval\n",
        "!pip install ood_metrics"
      ]
    },
    {
      "cell_type": "markdown",
      "source": [
        "## mIoU Inferences on Semantic Segmentation"
      ],
      "metadata": {
        "id": "r2vBe6pKThex"
      }
    },
    {
      "cell_type": "code",
      "source": [
        "# mIoU eval on Cityscapes validation set (ERFNet)\n",
        "%cd /content/AnomalySegmentationProject/eval\n",
        "!python eval_iou.py --datadir /content/AnomalySegmentation_CourseProjectBaseCode/Cityscapes --subset val"
      ],
      "metadata": {
        "id": "I2zFlr4u-SKJ"
      },
      "execution_count": null,
      "outputs": []
    },
    {
      "cell_type": "markdown",
      "source": [
        "## Inferences on Anomaly Segmentation"
      ],
      "metadata": {
        "id": "QyyTEbS0TqPj"
      }
    },
    {
      "cell_type": "code",
      "source": [
        "# Inference on LostAndFound\n",
        "%cd /content/AnomalySegmentation_CourseProjectBaseCode/eval\n",
        "!python evalAnomaly.py --input '/content/AnomalySegmentation_CourseProjectBaseCode/Validation_Dataset/FS_LostFound_full/images/*.png' --discriminant maxlogit\n",
        "!python evalAnomaly.py --input '/content/AnomalySegmentation_CourseProjectBaseCode/Validation_Dataset/FS_LostFound_full/images/*.png' --discriminant msp\n",
        "!python evalAnomaly.py --input '/content/AnomalySegmentation_CourseProjectBaseCode/Validation_Dataset/FS_LostFound_full/images/*.png' --discriminant maxentropy"
      ],
      "metadata": {
        "id": "wZMP0ok5YKAl"
      },
      "execution_count": null,
      "outputs": []
    },
    {
      "cell_type": "code",
      "source": [
        "# Inference on RoadAnomaly\n",
        "%cd /content/AnomalySegmentation_CourseProjectBaseCode/eval\n",
        "!python evalAnomaly.py --input '/content/AnomalySegmentation_CourseProjectBaseCode/Validation_Dataset/RoadAnomaly/images/*.jpg' --discriminant maxlogit\n",
        "!python evalAnomaly.py --input '/content/AnomalySegmentation_CourseProjectBaseCode/Validation_Dataset/RoadAnomaly/images/*.jpg' --discriminant msp\n",
        "!python evalAnomaly.py --input '/content/AnomalySegmentation_CourseProjectBaseCode/Validation_Dataset/RoadAnomaly/images/*.jpg' --discriminant maxentropy"
      ],
      "metadata": {
        "id": "X_4HBecmwyqz"
      },
      "execution_count": null,
      "outputs": []
    },
    {
      "cell_type": "code",
      "source": [
        "# Inference on RA21\n",
        "%cd /content/AnomalySegmentation_CourseProjectBaseCode/eval\n",
        "!python evalAnomaly.py --input '/content/AnomalySegmentation_CourseProjectBaseCode/Validation_Dataset/RoadAnomaly21/images/*.png' --discriminant maxlogit\n",
        "!python evalAnomaly.py --input '/content/AnomalySegmentation_CourseProjectBaseCode/Validation_Dataset/RoadAnomaly21/images/*.png' --discriminant msp\n",
        "!python evalAnomaly.py --input '/content/AnomalySegmentation_CourseProjectBaseCode/Validation_Dataset/RoadAnomaly21/images/*.png' --discriminant maxentropy"
      ],
      "metadata": {
        "id": "260hbZJ0w8Kq"
      },
      "execution_count": null,
      "outputs": []
    },
    {
      "cell_type": "code",
      "source": [
        "# Inference on RO21\n",
        "%cd /content/AnomalySegmentation_CourseProjectBaseCode/eval\n",
        "!python evalAnomaly.py --input '/content/AnomalySegmentation_CourseProjectBaseCode/Validation_Dataset/RoadObsticle21/images/*.webp' --discriminant maxlogit\n",
        "!python evalAnomaly.py --input '/content/AnomalySegmentation_CourseProjectBaseCode/Validation_Dataset/RoadObsticle21/images/*.webp' --discriminant msp\n",
        "!python evalAnomaly.py --input '/content/AnomalySegmentation_CourseProjectBaseCode/Validation_Dataset/RoadObsticle21/images/*.webp' --discriminant maxentropy"
      ],
      "metadata": {
        "id": "D4vHg1_ZxDzL"
      },
      "execution_count": null,
      "outputs": []
    },
    {
      "cell_type": "code",
      "source": [
        "# Inference on FS Static\n",
        "%cd /content/AnomalySegmentation_CourseProjectBaseCode/eval\n",
        "!python evalAnomaly.py --input '/content/AnomalySegmentation_CourseProjectBaseCode/Validation_Dataset/fs_static/images/*.jpg' --discriminant maxlogit\n",
        "!python evalAnomaly.py --input '/content/AnomalySegmentation_CourseProjectBaseCode/Validation_Dataset/fs_static/images/*.jpg' --discriminant msp\n",
        "!python evalAnomaly.py --input '/content/AnomalySegmentation_CourseProjectBaseCode/Validation_Dataset/fs_static/images/*.jpg' --discriminant maxentropy"
      ],
      "metadata": {
        "id": "atuOw4X03co5"
      },
      "execution_count": null,
      "outputs": []
    },
    {
      "cell_type": "markdown",
      "source": [
        "## Temprature scaling"
      ],
      "metadata": {
        "id": "4Ln-aJXudvEq"
      }
    },
    {
      "cell_type": "code",
      "source": [
        "%cd /content/AnomalySegmentation_CourseProjectBaseCode/eval\n",
        "\n",
        "# Lost and Found\n",
        "!echo temperature 0.01\n",
        "!python evalAnomaly.py --input '/content/AnomalySegmentation_CourseProjectBaseCode/Validation_Dataset/FS_LostFound_full/images/*.png' --discriminant msp --temperature 0.01\n",
        "!echo temperature 0.1\n",
        "!python evalAnomaly.py --input '/content/AnomalySegmentation_CourseProjectBaseCode/Validation_Dataset/FS_LostFound_full/images/*.png' --discriminant msp --temperature 0.1\n",
        "!echo temperature 0.5\n",
        "!python evalAnomaly.py --input '/content/AnomalySegmentation_CourseProjectBaseCode/Validation_Dataset/FS_LostFound_full/images/*.png' --discriminant msp --temperature 0.5\n",
        "!echo temperature 0.7\n",
        "!python evalAnomaly.py --input '/content/AnomalySegmentation_CourseProjectBaseCode/Validation_Dataset/FS_LostFound_full/images/*.png' --discriminant msp --temperature 0.7\n",
        "!echo temperature 1.1\n",
        "!python evalAnomaly.py --input '/content/AnomalySegmentation_CourseProjectBaseCode/Validation_Dataset/FS_LostFound_full/images/*.png' --discriminant msp --temperature 1.1\n",
        "# Road Anomaly\n",
        "!echo temperature 0.01\n",
        "!python evalAnomaly.py --input '/content/AnomalySegmentation_CourseProjectBaseCode/Validation_Dataset/RoadAnomaly/images/*.jpg' --discriminant msp --temperature 0.01\n",
        "!echo temperature 0.1\n",
        "!python evalAnomaly.py --input '/content/AnomalySegmentation_CourseProjectBaseCode/Validation_Dataset/RoadAnomaly/images/*.jpg' --discriminant msp --temperature 0.1\n",
        "!echo temperature 0.5\n",
        "!python evalAnomaly.py --input '/content/AnomalySegmentation_CourseProjectBaseCode/Validation_Dataset/RoadAnomaly/images/*.jpg' --discriminant msp --temperature 0.5\n",
        "!echo temperature 0.7\n",
        "!python evalAnomaly.py --input '/content/AnomalySegmentation_CourseProjectBaseCode/Validation_Dataset/RoadAnomaly/images/*.jpg' --discriminant msp --temperature 0.7\n",
        "!echo temperature 1.1\n",
        "!python evalAnomaly.py --input '/content/AnomalySegmentation_CourseProjectBaseCode/Validation_Dataset/RoadAnomaly/images/*.jpg' --discriminant msp --temperature 1.1\n",
        "# Road Anomaly 21\n",
        "!echo temperature 0.01\n",
        "!python evalAnomaly.py --input '/content/AnomalySegmentation_CourseProjectBaseCode/Validation_Dataset/RoadAnomaly21/images/*.png' --discriminant msp --temperature 0.01\n",
        "!echo temperature 0.1\n",
        "!python evalAnomaly.py --input '/content/AnomalySegmentation_CourseProjectBaseCode/Validation_Dataset/RoadAnomaly21/images/*.png' --discriminant msp --temperature 0.1\n",
        "!echo temperature 0.5\n",
        "!python evalAnomaly.py --input '/content/AnomalySegmentation_CourseProjectBaseCode/Validation_Dataset/RoadAnomaly21/images/*.png' --discriminant msp --temperature 0.5\n",
        "!echo temperature 0.7\n",
        "!python evalAnomaly.py --input '/content/AnomalySegmentation_CourseProjectBaseCode/Validation_Dataset/RoadAnomaly21/images/*.png' --discriminant msp --temperature 0.7\n",
        "!echo temperature 1.1\n",
        "!python evalAnomaly.py --input '/content/AnomalySegmentation_CourseProjectBaseCode/Validation_Dataset/RoadAnomaly21/images/*.png' --discriminant msp --temperature 1.1\n",
        "# Road Obstacle 21\n",
        "!echo temperature 0.01\n",
        "!python evalAnomaly.py --input '/content/AnomalySegmentation_CourseProjectBaseCode/Validation_Dataset/RoadObsticle21/images/*.webp' --discriminant msp --temperature 0.01\n",
        "!echo temperature 0.1\n",
        "!python evalAnomaly.py --input '/content/AnomalySegmentation_CourseProjectBaseCode/Validation_Dataset/RoadObsticle21/images/*.webp' --discriminant msp --temperature 0.1\n",
        "!echo temperature 0.5\n",
        "!python evalAnomaly.py --input '/content/AnomalySegmentation_CourseProjectBaseCode/Validation_Dataset/RoadObsticle21/images/*.webp' --discriminant msp --temperature 0.5\n",
        "!echo temperature 0.7\n",
        "!python evalAnomaly.py --input '/content/AnomalySegmentation_CourseProjectBaseCode/Validation_Dataset/RoadObsticle21/images/*.webp' --discriminant msp --temperature 0.7\n",
        "!echo temperature 1.1\n",
        "!python evalAnomaly.py --input '/content/AnomalySegmentation_CourseProjectBaseCode/Validation_Dataset/RoadObsticle21/images/*.webp' --discriminant msp --temperature 1.1\n",
        "# FS Static\n",
        "!echo temperature 0.01\n",
        "!python evalAnomaly.py --input '/content/AnomalySegmentation_CourseProjectBaseCode/Validation_Dataset/fs_static/images/*.jpg' --discriminant msp --temperature 0.01\n",
        "!echo temperature 0.1\n",
        "!python evalAnomaly.py --input '/content/AnomalySegmentation_CourseProjectBaseCode/Validation_Dataset/fs_static/images/*.jpg' --discriminant msp --temperature 0.1\n",
        "!echo temperature 0.5\n",
        "!python evalAnomaly.py --input '/content/AnomalySegmentation_CourseProjectBaseCode/Validation_Dataset/fs_static/images/*.jpg' --discriminant msp --temperature 0.5\n",
        "!echo temperature 0.7\n",
        "!python evalAnomaly.py --input '/content/AnomalySegmentation_CourseProjectBaseCode/Validation_Dataset/fs_static/images/*.jpg' --discriminant msp --temperature 0.7\n",
        "!echo temperature 1.1\n",
        "!python evalAnomaly.py --input '/content/AnomalySegmentation_CourseProjectBaseCode/Validation_Dataset/fs_static/images/*.jpg' --discriminant msp --temperature 1.1"
      ],
      "metadata": {
        "id": "Y_5DEPUdd0PP"
      },
      "execution_count": null,
      "outputs": []
    },
    {
      "cell_type": "code",
      "source": [
        "!echo temperature 0.01\n",
        "!python evalAnomaly.py --input '/content/AnomalySegmentation_CourseProjectBaseCode/Validation_Dataset/RoadObsticle21/images/*.webp' --discriminant msp --temperature 0.01\n",
        "!echo temperature 0.1\n",
        "!python evalAnomaly.py --input '/content/AnomalySegmentation_CourseProjectBaseCode/Validation_Dataset/RoadObsticle21/images/*.webp' --discriminant msp --temperature 0.1\n",
        "!echo temperature 0.5\n",
        "!python evalAnomaly.py --input '/content/AnomalySegmentation_CourseProjectBaseCode/Validation_Dataset/RoadObsticle21/images/*.webp' --discriminant msp --temperature 0.5\n",
        "!echo temperature 0.7\n",
        "!python evalAnomaly.py --input '/content/AnomalySegmentation_CourseProjectBaseCode/Validation_Dataset/RoadObsticle21/images/*.webp' --discriminant msp --temperature 0.7\n",
        "!echo temperature 1.1\n",
        "!python evalAnomaly.py --input '/content/AnomalySegmentation_CourseProjectBaseCode/Validation_Dataset/RoadObsticle21/images/*.webp' --discriminant msp --temperature 1.1"
      ],
      "metadata": {
        "id": "eaXlEweKZ8C3"
      },
      "execution_count": null,
      "outputs": []
    },
    {
      "cell_type": "markdown",
      "source": [
        "# Training"
      ],
      "metadata": {
        "id": "HqRAo9QuobD0"
      }
    },
    {
      "cell_type": "markdown",
      "source": [
        "## Package preparation"
      ],
      "metadata": {
        "id": "EA_celxQwd5G"
      }
    },
    {
      "cell_type": "code",
      "source": [
        "!git clone https://github.com/Michdigg/AnomalySegmentation_CourseProjectBaseCode.git\n",
        "\n",
        "!python -m pip install cityscapesscripts\n",
        "%cd /content\n",
        "!csDownload leftImg8bit_trainvaltest.zip\n",
        "!csDownload gtFine_trainvaltest.zip\n",
        "\n",
        "!rm -r /content/AnomalySegmentation_CourseProjectBaseCode/Cityscapes\n",
        "!mkdir /content/AnomalySegmentation_CourseProjectBaseCode/Cityscapes\n",
        "!unzip /content/leftImg8bit_trainvaltest.zip -d /content/AnomalySegmentation_CourseProjectBaseCode/Cityscapes\n",
        "!rm /content/AnomalySegmentation_CourseProjectBaseCode/Cityscapes/README\n",
        "!rm /content/AnomalySegmentation_CourseProjectBaseCode/Cityscapes/license.txt\n",
        "!unzip /content/gtFine_trainvaltest.zip -d /content/AnomalySegmentation_CourseProjectBaseCode/Cityscapes\n",
        "!rm /content/AnomalySegmentation_CourseProjectBaseCode/Cityscapes/README\n",
        "!rm /content/AnomalySegmentation_CourseProjectBaseCode/Cityscapes/license.txt\n",
        "!rm  /content/leftImg8bit_trainvaltest.zip\n",
        "!rm  /content/gtFine_trainvaltest.zip\n",
        "%cd /content/AnomalySegmentation_CourseProjectBaseCode/Cityscapes/\n",
        "!CITYSCAPES_DATASET='.' csCreateTrainIdLabelImgs\n",
        "\n",
        "%cd /content/AnomalySegmentation_CourseProjectBaseCode/train\n",
        "!pip install visdom"
      ],
      "metadata": {
        "id": "kevYWFieu6Bs"
      },
      "execution_count": null,
      "outputs": []
    },
    {
      "cell_type": "markdown",
      "source": [
        "## Training"
      ],
      "metadata": {
        "id": "laX7uUVnwpYS"
      }
    },
    {
      "cell_type": "code",
      "source": [
        "# Training with logit normalization loss\n",
        "%cd /content/AnomalySegmentation_CourseProjectBaseCode/train\n",
        "!python main.py --savedir logit_norm --datadir /content/AnomalySegmentation_CourseProjectBaseCode/Cityscapes --num-epochs 10 --batch-size 6 --loss logit_norm"
      ],
      "metadata": {
        "id": "r8sZBoFLohGX"
      },
      "execution_count": null,
      "outputs": []
    },
    {
      "cell_type": "code",
      "source": [
        "# Training with logit normalization loss jointly with focal loss\n",
        "%cd /content/AnomalySegmentation_CourseProjectBaseCode/train\n",
        "!python main.py --savedir logit_norm_join_focal --datadir /content/AnomalySegmentation_CourseProjectBaseCode/Cityscapes --num-epochs 6 --batch-size 6 --loss joint2"
      ],
      "metadata": {
        "id": "olMx4e-xw-yA"
      },
      "execution_count": null,
      "outputs": []
    },
    {
      "cell_type": "code",
      "source": [
        "# Training with jaccard loss\n",
        "%cd /content/AnomalySegmentation_CourseProjectBaseCode/train\n",
        "!rm -r /content/AnomalySegmentation_CourseProjectBaseCode/save/jaccard\n",
        "!python main.py --savedir jaccard --datadir /content/AnomalySegmentation_CourseProjectBaseCode/Cityscapes --num-epochs 6 --batch-size 6 --loss jaccard"
      ],
      "metadata": {
        "id": "FsWFtObnxWYJ"
      },
      "execution_count": null,
      "outputs": []
    }
  ]
}